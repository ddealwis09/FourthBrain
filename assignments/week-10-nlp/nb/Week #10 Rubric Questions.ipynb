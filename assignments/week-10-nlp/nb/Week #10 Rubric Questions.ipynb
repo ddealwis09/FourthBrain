{
 "cells": [
  {
   "cell_type": "markdown",
   "id": "f7c092cd",
   "metadata": {},
   "source": [
    "# Week 10 Rubric Questions"
   ]
  },
  {
   "cell_type": "markdown",
   "id": "5905eb6e",
   "metadata": {},
   "source": [
    "### How does the Naive Bayes Classifier work? What is Posterior Probability?"
   ]
  },
  {
   "cell_type": "markdown",
   "id": "a22d0e14",
   "metadata": {},
   "source": [
    "### What is the difference between stemming and lemmatization in NLP?"
   ]
  },
  {
   "cell_type": "markdown",
   "id": "0293fdf3",
   "metadata": {},
   "source": [
    "### What is Word2Vec and how does it work?"
   ]
  },
  {
   "cell_type": "markdown",
   "id": "cfbf2a44",
   "metadata": {},
   "source": [
    "### When to use GRU over LSTM?"
   ]
  }
 ],
 "metadata": {
  "kernelspec": {
   "display_name": "Python 3 (ipykernel)",
   "language": "python",
   "name": "python3"
  },
  "language_info": {
   "codemirror_mode": {
    "name": "ipython",
    "version": 3
   },
   "file_extension": ".py",
   "mimetype": "text/x-python",
   "name": "python",
   "nbconvert_exporter": "python",
   "pygments_lexer": "ipython3",
   "version": "3.8.13"
  }
 },
 "nbformat": 4,
 "nbformat_minor": 5
}
