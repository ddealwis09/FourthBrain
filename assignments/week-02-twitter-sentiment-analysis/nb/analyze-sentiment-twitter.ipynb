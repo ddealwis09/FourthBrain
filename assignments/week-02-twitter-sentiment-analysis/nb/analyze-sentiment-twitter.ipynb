{
 "cells": [
  {
   "cell_type": "markdown",
   "id": "24d097db",
   "metadata": {},
   "source": [
    "<p align = \"center\" draggable=”false” ><img src=\"https://user-images.githubusercontent.com/37101144/161836199-fdb0219d-0361-4988-bf26-48b0fad160a3.png\"\n",
    "     width=\"200px\"\n",
    "     height=\"auto\"/>\n",
    "</p>\n",
    "\n",
    "# <h1 align=\"center\" id=\"heading\">Sentiment Analysis of Twitter Data</h1>\n",
    "\n",
    "<hr>\n",
    "\n",
    "\n",
    "### ☑️ Objectives\n",
    "At the end of this session, you will be able to:\n",
    "- [ ] Understand how to find and run pre-trained models\n",
    "- [ ] Evaluate results from pre-trained models\n",
    "- [ ] Run a pre-trained model using real twitter data\n",
    "\n",
    "\n",
    "### 🔨 Pre-Assignment\n",
    "\n",
    "Create a new Conda environment for sentiment anaylsis (sa)\n",
    "\n",
    "```bash\n",
    "  conda create -n sa python=3.8 jupyter -y\n",
    "```\n",
    "\n",
    "Activate your new environment\n",
    "```bash\n",
    "  conda activate sa\n",
    "```\n",
    "\n",
    "Open the jupyter-notebook\n",
    "```bash\n",
    "  jupyter-notebook\n",
    "```\n",
    "\n",
    "Navigate through the repo in the notebook to find `imports.ipynb` for this week and open it.\n",
    "\n",
    "Run all of the cells in the notebook.\n",
    "\n",
    "\n",
    "### Background\n",
    "Please review the weekly narrative [here](https://www.notion.so/Week-2-Data-Centric-AI-the-AI-Product-Lifecycle-72a84c1517b44fcbb3e6bd11d47477dc#2b73937612bb46559f5b91dc2bf55e7d)\n",
    "\n",
    "\n"
   ]
  },
  {
   "cell_type": "markdown",
   "id": "b3934e6e",
   "metadata": {},
   "source": [
    "<hr>"
   ]
  },
  {
   "cell_type": "markdown",
   "id": "d1a5ab14",
   "metadata": {},
   "source": [
    "## 🚀 Let's Get Started"
   ]
  },
  {
   "cell_type": "markdown",
   "id": "bea542cb",
   "metadata": {},
   "source": [
    "Let's first start with our imports"
   ]
  },
  {
   "cell_type": "code",
   "execution_count": 1,
   "id": "f67dcb2b",
   "metadata": {
    "scrolled": true
   },
   "outputs": [],
   "source": [
    "import csv # Allows us to read and write csv files\n",
    "from pprint import pprint # Make our print functions easier to read\n",
    "\n",
    "from transformers import pipeline # Hugging face pipeline to load online models"
   ]
  },
  {
   "cell_type": "markdown",
   "id": "62d4028f",
   "metadata": {},
   "source": [
    "🤗 Transformers provides thousands of pretrained models to perform tasks on different modalities such as text, vision, and audio.\n",
    "\n",
    "These models can be applied on:\n",
    "- 📝 Text, for tasks like text classification, information extraction, question answering, summarization, translation, text generation, in over 100 languages.\n",
    "\n",
    "- 🖼️ Images, for tasks like image classification, object detection, and segmentation.\n",
    "- 🗣️ Audio, for tasks like speech recognition and audio classification.\n",
    "\n",
    "This is the pipeline method in transformers that we'll be using to analyze our sentiment data. Since we're not specifying a pretrained model, the pipeline has a default sentiment analysis model called [distilbert-base-uncased-finetuned-sst-2-english](https://huggingface.co/distilbert-base-uncased-finetuned-sst-2-english)."
   ]
  },
  {
   "cell_type": "code",
   "execution_count": 2,
   "id": "9c3e6e41",
   "metadata": {},
   "outputs": [
    {
     "name": "stderr",
     "output_type": "stream",
     "text": [
      "No model was supplied, defaulted to distilbert-base-uncased-finetuned-sst-2-english and revision af0f99b (https://huggingface.co/distilbert-base-uncased-finetuned-sst-2-english).\n",
      "Using a pipeline without specifying a model name and revision in production is not recommended.\n"
     ]
    }
   ],
   "source": [
    "sentiment_pipeline = pipeline(\"sentiment-analysis\")"
   ]
  },
  {
   "cell_type": "markdown",
   "id": "e30b34b2",
   "metadata": {},
   "source": [
    "In this example, we'll supply two polar sentiments and test out the model pipeline."
   ]
  },
  {
   "cell_type": "code",
   "execution_count": 3,
   "id": "de41c494",
   "metadata": {},
   "outputs": [
    {
     "data": {
      "text/plain": [
       "[{'label': 'POSITIVE', 'score': 0.9998694658279419},\n",
       " {'label': 'NEGATIVE', 'score': 0.994263231754303}]"
      ]
     },
     "execution_count": 3,
     "metadata": {},
     "output_type": "execute_result"
    }
   ],
   "source": [
    "data = [\"This is great!\", \"Oh no!\"]\n",
    "sentiment_pipeline(data)"
   ]
  },
  {
   "cell_type": "markdown",
   "id": "39d04139",
   "metadata": {},
   "source": [
    "The `label` in this case indicates the prediction for the sentiment type.\n",
    "\n",
    "The `score` indicates the confidence of the prediction (between 0 and 1).\n",
    "\n",
    "Since our sentiments were very polar, it was easier for the model to predict the sentiment type.\n",
    "\n",
    "Let's see what happens when we use a less clear example:"
   ]
  },
  {
   "cell_type": "code",
   "execution_count": 4,
   "id": "c077f881",
   "metadata": {},
   "outputs": [
    {
     "data": {
      "text/plain": [
       "[{'label': 'NEGATIVE', 'score': 0.9955561757087708},\n",
       " {'label': 'NEGATIVE', 'score': 0.9860844016075134}]"
      ]
     },
     "execution_count": 4,
     "metadata": {},
     "output_type": "execute_result"
    }
   ],
   "source": [
    "challenging_sentiments = [\"I don't think freddriq should leave, he's been helpful.\",\n",
    "                          \"Is that the lake we went to last month?\"]\n",
    "sentiment_pipeline(challenging_sentiments)"
   ]
  },
  {
   "cell_type": "markdown",
   "id": "c64b62d4",
   "metadata": {},
   "source": [
    "<hr>\n",
    "\n",
    "### Loading the Twitter Data\n",
    "\n",
    "Let's play with some twitter data. We'll be using a modified version of the [Elon Musk twitter dataset on Kaggle](https://www.kaggle.com/datasets/andradaolteanu/all-elon-musks-tweets)."
   ]
  },
  {
   "cell_type": "code",
   "execution_count": 5,
   "id": "4c1a44d0",
   "metadata": {},
   "outputs": [
    {
     "name": "stdout",
     "output_type": "stream",
     "text": [
      "['@vincent13031925 For now. Costs are decreasing rapidly.',\n",
      " 'Love this beautiful shot',\n",
      " '@agnostoxxx @CathieDWood @ARKInvest Trust the shrub',\n",
      " 'The art In Cyberpunk is incredible',\n",
      " '@itsALLrisky 🤣🤣',\n",
      " '@seinfeldguru @WholeMarsBlog Nope haha',\n",
      " '@WholeMarsBlog If you don’t say anything &amp; engage Autopilot, it will '\n",
      " 'soon guess based on time of day, taking you home or to work or to what’s on '\n",
      " 'your calendar',\n",
      " '@DeltavPhotos @PortCanaveral That rocket is a hardcore veteran of many '\n",
      " 'missions',\n",
      " 'Blimps rock  https://t.co/e8cu5FkNOI',\n",
      " '@engineers_feed Due to lower gravity, you can travel from surface of Mars to '\n",
      " 'surface of Earth fairly easily with a single stage rocket. Earth to Mars is '\n",
      " 'vastly harder.',\n",
      " '@DrPhiltill Good thread',\n",
      " '@alexellisuk Pretty much',\n",
      " '@tesla_adri @WholeMarsBlog These things are best thought of as '\n",
      " 'probabilities. There are 5 forward-facing cameras. It is highly likely that '\n",
      " 'at least one of them will see multiple cars ahead.',\n",
      " '@WholeMarsBlog Sensors are a bitstream and cameras have several orders of '\n",
      " 'magnitude more bits/sec than radar (or lidar).   Radar must meaningfully '\n",
      " 'increase signal/noise of bitstream to be worth complexity of integrating '\n",
      " 'it.   As vision processing gets better, it just leaves radar far behind.',\n",
      " '@WholeMarsBlog When radar and vision disagree, which one do you believe? '\n",
      " 'Vision has much more precision, so better to double down on vision than do '\n",
      " 'sensor fusion.',\n",
      " '@WholeMarsBlog This is a major problem!',\n",
      " 'Just needs some legs',\n",
      " 'The Starship launch tower that catches the giant rocket booster is basically '\n",
      " 'Mechazilla',\n",
      " 'But wait how is the core of the earth lit by the sun? Stop asking '\n",
      " 'questions!!',\n",
      " 'Kong vs Godzilla has record for most meth ever consumed in a writer’s room',\n",
      " '@itsALLrisky 💯',\n",
      " '… going to moon very soon',\n",
      " '@Matsu_Kusarine @jagarikin Actually happened to me in Cyberpunk haha',\n",
      " '@TimBirks1 @Erdayastronaut @SpaceX Pretty much',\n",
      " '@memescryptor !',\n",
      " 'Where is Shrek 5!?  https://t.co/PqAZ5Mg8Es',\n",
      " '@AustinTeslaClub @OwenSparks_ @WholeMarsBlog Good point.   Next major '\n",
      " 'software rev will do much better with automating wipers, seat heating &amp; '\n",
      " 'defrost.   Probable seat settings just based on occupant mass distribution '\n",
      " 'should be possible.',\n",
      " '@Adamklotz_ @OwenSparks_ @WholeMarsBlog Yup',\n",
      " '@teslaownersSV @neuralink Turns out 🐒 love video games &amp; snacks just '\n",
      " 'like us!',\n",
      " 'It’s all about the cufflinks  https://t.co/elccqC0Zuf',\n",
      " '@chicago_glenn I feel like this sometimes',\n",
      " '@OwenSparks_ @WholeMarsBlog It will',\n",
      " '@OwenSparks_ @WholeMarsBlog Remove',\n",
      " '@w00ki33 @SpaceX @SuperclusterHQ Simulation is improving rendering '\n",
      " 'resolution  …',\n",
      " '@cleantechnica Congrats to NIO. That is a tough milestone.',\n",
      " '@WholeMarsBlog Almost ready with FSD Beta V9.0. Step change improvement is '\n",
      " 'massive, especially for weird corner cases &amp; bad weather. Pure vision, '\n",
      " 'no radar.',\n",
      " 'Thanks to all that helped SpaceX!',\n",
      " 'Just read it. Book is accurate.',\n",
      " '@TeslaGong Yeah',\n",
      " '@mikevanbus @TrungTPhan @neuralink Pretty much',\n",
      " ' https://t.co/XeQursZpvq',\n",
      " 'Soon our monkey will be on twitch &amp; discord haha',\n",
      " '@thenewsoncnbc @contessabrewer Good piece!',\n",
      " '@Kyler_Knoll @neuralink Comes with wireless charging baseball cap',\n",
      " '@TarekWaked @TechCrunch @etherington Pretty much 🤣🤣 Great episode!',\n",
      " 'A monkey is literally playing a video game telepathically using a brain '\n",
      " 'chip!!',\n",
      " '@lexfridman @neuralink Yes',\n",
      " 'The device is implanted flush with skull &amp; charges wirelessly, so you '\n",
      " 'look &amp; feel totally normal',\n",
      " '@IheartTesla Absolutely doable. Possibly as soon as Neuralink device version '\n",
      " '2, highly likely by version 3.',\n",
      " 'Later versions will be able to shunt signals from Neuralinks in brain to '\n",
      " 'Neuralinks in body motor/sensory neuron clusters, thus enabling, for '\n",
      " 'example, paraplegics to walk again',\n",
      " '@mindofkacper @neuralink Yes',\n",
      " 'First @Neuralink product will enable someone with paralysis to use a '\n",
      " 'smartphone with their mind faster than someone using thumbs',\n",
      " '@IheartTesla @neuralink Hopefully, later this year',\n",
      " '@tobyliiiiiiiiii Sure',\n",
      " 'Monkey plays Pong with his mind',\n",
      " '@dogeofficialceo @WatchersTank @SpaceX Looking at pups soon!',\n",
      " '@jordanxmajel @WatchersTank @SpaceX Shock absorption is built into tower '\n",
      " 'arms. Since tower is ground side, it can use a lot more mass to arrest '\n",
      " 'booster downward momentum.',\n",
      " '@jordanxmajel @WatchersTank @SpaceX Load points just below the grid fins',\n",
      " '@WatchersTank @SpaceX Just one skyscraper catching another nbd haha',\n",
      " 'Thanks Tesla suppliers for providing us with critical parts!',\n",
      " '@MarkJam93765764 @IvanEscobosa A tidal wave of vaccine is being produced!',\n",
      " '@jgrano305 Probably J&amp;J, but BioNtech &amp; Moderna are good too. Some '\n",
      " 'debate imo as to whether a second synthetic mRNA shot is really needed, but '\n",
      " 'the first is a no-brainer.',\n",
      " '@IvanEscobosa Latter',\n",
      " 'To be clear, I do support vaccines in general &amp; covid vaccines '\n",
      " 'specifically. The science is unequivocal.   In very rare cases, there is an '\n",
      " 'allergic reaction, but this is easily addressed with an EpiPen.',\n",
      " '@DavidWillisSLS @_Jevis_ @PPathole Needs legs for moon &amp; Mars',\n",
      " '@SciGuySpace Global payload to orbit is the key metric',\n",
      " '@Julius_Burton @Erdayastronaut @DJSnM @NASASpaceflight @ChrisG_NSF '\n",
      " '@thejackbeyer @FelixSchlang Nice',\n",
      " '@_Jevis_ @PPathole Ideal scenario imo is catching Starship in horizontal '\n",
      " '“glide” with no landing burn, although that is quite a challenge for the '\n",
      " 'tower! Next best is catching with tower, with emergency pad landing mode on '\n",
      " 'skirt (no legs).',\n",
      " '@PPathole Starship booster, largest flying object ever designed, will be '\n",
      " 'caught out of sky by launch tower. Big step forward, as reflight can be done '\n",
      " 'in under an hour.',\n",
      " '@WholeMarsBlog Well-written and fair, much like his articles on space',\n",
      " '@louisssdev @flcnhvy Coming soon. Crazy number of launches this year!',\n",
      " '@flcnhvy They will be recovered from the water &amp; reused',\n",
      " '“Tanks for the memery!” – Panzer of the Lake',\n",
      " '@CathieDWood @wintonARK @ARKInvest What do you think of the unusually high '\n",
      " 'ratio of S&amp;P market cap to GDP?',\n",
      " '@ID_AA_Carmack Some kind of ELO level, updated once or twice a year based on '\n",
      " 'what someone actually got done, might be most effective. Important that it '\n",
      " 'go both up *and* down.',\n",
      " '@Thomas38697956 New &amp; improved version!',\n",
      " '@Teslarati @ResidentSponge Special mention of Tesla China',\n",
      " '@shbzz Obv',\n",
      " '@Teslarati @ResidentSponge Great work by Tesla team!',\n",
      " '@EvaFoxU Nice',\n",
      " 'The Earth is not flat, it’s a hollow globe &amp; Donkey King lives there!',\n",
      " '@EvaFoxU Those two really could have come in handy for the stuck ship!',\n",
      " '@EvaFoxU Last Kingdom vs Vikings',\n",
      " '@spacex360 Ascent phase, transition to horizontal &amp; control during free '\n",
      " 'fall were good.   A (relatively) small CH4 leak led to fire on engine 2 '\n",
      " '&amp; fried part of avionics, causing hard start attempting landing burn in '\n",
      " 'CH4 turbopump.   This is getting fixed 6 ways to Sunday.',\n",
      " 'Godzilla vs Kong is so amaze much wow! Most insane movie I’ve ever seen! '\n",
      " 'Love letter to conspiracy theorists! And yet heartwarming in the end.',\n",
      " '@TerminalCount The Starships feast in Valhalla!',\n",
      " '@TerminalCount One of the greatest things I’ve ever seen',\n",
      " '@floko12022021 @HamblinZeke @katlinegrey Ich habe ein Semester Deutsch an '\n",
      " 'der Universität studiert usw',\n",
      " '@HamblinZeke @katlinegrey Haha Falcon? Nein!',\n",
      " '@tobyliiiiiiiiii @katlinegrey I recommend propulsive landing, as that is '\n",
      " 'extensible to planets, moons &amp; asteroids. Wings &amp; runways are '\n",
      " 'limited to Earth.',\n",
      " '@PPathole @katlinegrey For practical purposes, there is no limit. It will '\n",
      " 'just get increasingly difficult to service.',\n",
      " '@katlinegrey This a good path, but I recommend aiming for full reusability',\n",
      " 'Urgent need to build more housing in greater Austin area!',\n",
      " 'Austin++',\n",
      " 'No it doesn’t hurt at all 🩸  https://t.co/NnL6o1si0V',\n",
      " '@allrocketsboi True',\n",
      " '@GerberKawasaki I fried a lot of neurons on that problem!',\n",
      " 'Me in my sick new car (left him the money)  https://t.co/EGaY1FVfHm',\n",
      " '@TrungTPhan Had no money to invest in Zip2, but my founder equity yielded '\n",
      " '~$15M after tax. Of that, I rolled ~$10M into PayPal, which yielded ~$180M, '\n",
      " 'then …   Basic principle is that I would not ask investors to risk money on '\n",
      " 'my company if I would not also do so.',\n",
      " '@Gfilche Major new Supercharger station coming to Santa Monica soon! Hoping '\n",
      " 'to have 50’s diner &amp; 100 best movie clips playing too. Thanks Santa '\n",
      " 'Monica city!']\n"
     ]
    }
   ],
   "source": [
    "with open('../data/elonmusk_tweets.csv', newline='', encoding='utf8') as f:\n",
    "    tweets=[]\n",
    "    reader = csv.reader(f)\n",
    "    twitter_data = list(reader)\n",
    "    for tweet in twitter_data:\n",
    "        tweets.append(tweet[0])\n",
    "\n",
    "pprint(tweets[:100])"
   ]
  },
  {
   "cell_type": "markdown",
   "id": "e630a8f1",
   "metadata": {},
   "source": [
    "First things first - let's look at the sentiment as determined by the [distilbert-base-uncased-finetuned-sst-2-english](https://huggingface.co/distilbert-base-uncased-finetuned-sst-2-english) (default model) in the pipeline."
   ]
  },
  {
   "cell_type": "code",
   "execution_count": 6,
   "id": "42b10279",
   "metadata": {},
   "outputs": [],
   "source": [
    "distil_sentiment = sentiment_pipeline(tweets[0:100])"
   ]
  },
  {
   "cell_type": "markdown",
   "id": "8ce3fefd",
   "metadata": {},
   "source": [
    "Let's check out the distribution of positive/negative Tweets and see the breakdown using Python's 🐍 standard library `collections.Counter`!"
   ]
  },
  {
   "cell_type": "code",
   "execution_count": 7,
   "id": "971a841d",
   "metadata": {},
   "outputs": [
    {
     "name": "stdout",
     "output_type": "stream",
     "text": [
      "49 (49.00%) of the tweets classified are positive.\n",
      "51 (51.00%) of the tweets classified are negative.\n"
     ]
    }
   ],
   "source": [
    "from collections import Counter\n",
    "\n",
    "tweet_distro = Counter([x['label'] for x in distil_sentiment])\n",
    "pos_sent_count = tweet_distro['POSITIVE']\n",
    "neg_sent_count = tweet_distro['NEGATIVE']\n",
    "total_sent_count = sum(tweet_distro.values())\n",
    "\n",
    "print(f\"{pos_sent_count} ({pos_sent_count / total_sent_count * 100:.2f}%) of the tweets classified are positive.\")\n",
    "print(f\"{neg_sent_count} ({neg_sent_count / total_sent_count * 100:.2f}%) of the tweets classified are negative.\")"
   ]
  },
  {
   "cell_type": "markdown",
   "id": "42155a0c",
   "metadata": {},
   "source": [
    "Let's do that process again, but use a model with an additional potential label \"NEUTRAL\" called [bertweet-sentiment-analysis](https://huggingface.co/finiteautomata/bertweet-base-sentiment-analysis)\n",
    "\n",
    "To start - we'll build a pipeline with the new model by using the 🤗 Hugging Face address: `finiteautomata/bertweet-base-sentiment-analysis`"
   ]
  },
  {
   "cell_type": "code",
   "execution_count": 8,
   "id": "3fd6e37f",
   "metadata": {},
   "outputs": [
    {
     "data": {
      "application/vnd.jupyter.widget-view+json": {
       "model_id": "831c19fcf0964296bb7c551cdcffea83",
       "version_major": 2,
       "version_minor": 0
      },
      "text/plain": [
       "Downloading:   0%|          | 0.00/1.42k [00:00<?, ?B/s]"
      ]
     },
     "metadata": {},
     "output_type": "display_data"
    }
   ],
   "source": [
    "bertweet_pipeline = pipeline(model=\"finiteautomata/bertweet-base-sentiment-analysis\")"
   ]
  },
  {
   "cell_type": "markdown",
   "id": "7025127d",
   "metadata": {},
   "source": [
    "Next, and the same as before, let's run the analysis on 100 of Elon's tweets."
   ]
  },
  {
   "cell_type": "code",
   "execution_count": 9,
   "id": "5daa650d",
   "metadata": {},
   "outputs": [],
   "source": [
    "bert_sentiment = bertweet_pipeline(tweets[0:100])"
   ]
  },
  {
   "cell_type": "markdown",
   "id": "6d8a316d",
   "metadata": {},
   "source": [
    "And then, let's check out the breakdown of positive, negative, AND neutral sentiments!"
   ]
  },
  {
   "cell_type": "code",
   "execution_count": 10,
   "id": "6996cc58",
   "metadata": {},
   "outputs": [
    {
     "name": "stdout",
     "output_type": "stream",
     "text": [
      "29 (29.00%) of the tweets classified are positive.\n",
      "64 (64.00%) of the tweets classified are neutral.\n",
      "7 (7.00%) of the tweets classified are negative.\n"
     ]
    }
   ],
   "source": [
    "from collections import Counter\n",
    "\n",
    "tweet_distro = Counter([x['label'] for x in bert_sentiment])\n",
    "pos_sent_count = tweet_distro['POS']\n",
    "neu_sent_count = tweet_distro['NEU']\n",
    "neg_sent_count = tweet_distro['NEG']\n",
    "total_sent_count = sum(tweet_distro.values())\n",
    "\n",
    "print(f\"{pos_sent_count} ({pos_sent_count / total_sent_count * 100:.2f}%) of the tweets classified are positive.\")\n",
    "print(f\"{neu_sent_count} ({neu_sent_count / total_sent_count * 100:.2f}%) of the tweets classified are neutral.\")\n",
    "print(f\"{neg_sent_count} ({neg_sent_count / total_sent_count * 100:.2f}%) of the tweets classified are negative.\")"
   ]
  },
  {
   "cell_type": "markdown",
   "id": "8185798d",
   "metadata": {},
   "source": [
    "❓ **Setup and exploratory analysis to answer the assignment questions**"
   ]
  },
  {
   "cell_type": "code",
   "execution_count": 11,
   "id": "96ae255c",
   "metadata": {},
   "outputs": [
    {
     "data": {
      "text/html": [
       "<div>\n",
       "<style scoped>\n",
       "    .dataframe tbody tr th:only-of-type {\n",
       "        vertical-align: middle;\n",
       "    }\n",
       "\n",
       "    .dataframe tbody tr th {\n",
       "        vertical-align: top;\n",
       "    }\n",
       "\n",
       "    .dataframe thead th {\n",
       "        text-align: right;\n",
       "    }\n",
       "</style>\n",
       "<table border=\"1\" class=\"dataframe\">\n",
       "  <thead>\n",
       "    <tr style=\"text-align: right;\">\n",
       "      <th></th>\n",
       "      <th>Tweet</th>\n",
       "    </tr>\n",
       "  </thead>\n",
       "  <tbody>\n",
       "    <tr>\n",
       "      <th>0</th>\n",
       "      <td>@vincent13031925 For now. Costs are decreasing...</td>\n",
       "    </tr>\n",
       "    <tr>\n",
       "      <th>1</th>\n",
       "      <td>Love this beautiful shot</td>\n",
       "    </tr>\n",
       "    <tr>\n",
       "      <th>2</th>\n",
       "      <td>@agnostoxxx @CathieDWood @ARKInvest Trust the ...</td>\n",
       "    </tr>\n",
       "    <tr>\n",
       "      <th>3</th>\n",
       "      <td>The art In Cyberpunk is incredible</td>\n",
       "    </tr>\n",
       "    <tr>\n",
       "      <th>4</th>\n",
       "      <td>@itsALLrisky 🤣🤣</td>\n",
       "    </tr>\n",
       "  </tbody>\n",
       "</table>\n",
       "</div>"
      ],
      "text/plain": [
       "                                               Tweet\n",
       "0  @vincent13031925 For now. Costs are decreasing...\n",
       "1                           Love this beautiful shot\n",
       "2  @agnostoxxx @CathieDWood @ARKInvest Trust the ...\n",
       "3                 The art In Cyberpunk is incredible\n",
       "4                                    @itsALLrisky 🤣🤣"
      ]
     },
     "execution_count": 11,
     "metadata": {},
     "output_type": "execute_result"
    }
   ],
   "source": [
    "import pandas as pd\n",
    "import numpy as np\n",
    "import matplotlib.pyplot as plt\n",
    "import seaborn as sns\n",
    "\n",
    "df = pd.read_csv('../data/elonmusk_tweets.csv', header=None)\n",
    "elontweets = df.rename(columns={0:\"Tweet\"})\n",
    "elontweets = elontweets.head(500) #only consider the first 500 tweets in the list\n",
    "elontweets.head()"
   ]
  },
  {
   "cell_type": "code",
   "execution_count": 12,
   "id": "ee8d68ea",
   "metadata": {},
   "outputs": [],
   "source": [
    "# create list for each model\n",
    "base_list = sentiment_pipeline(list(elontweets['Tweet']))\n",
    "sent_list = bertweet_pipeline(list(elontweets['Tweet']))"
   ]
  },
  {
   "cell_type": "code",
   "execution_count": 13,
   "id": "499abc86",
   "metadata": {},
   "outputs": [],
   "source": [
    "#create some new columns for our dataframe\n",
    "\n",
    "# base\n",
    "base_class = []\n",
    "base_score = []\n",
    "for value in base_list:\n",
    "    base_class.append(value['label'])\n",
    "    base_score.append(value['score'])\n",
    "    \n",
    "elontweets['dist_classification'] = pd.Series(base_class)\n",
    "elontweets['dist_score'] = pd.Series(base_score)\n",
    "\n",
    "# sentiment\n",
    "sent_class = []\n",
    "sent_score = []\n",
    "for value in sent_list:\n",
    "    sent_class.append(value['label'])\n",
    "    sent_score.append(value['score'])\n",
    "    \n",
    "elontweets['bert_classification'] = pd.Series(sent_class)\n",
    "elontweets['bert_score'] = pd.Series(sent_score)"
   ]
  },
  {
   "cell_type": "code",
   "execution_count": 14,
   "id": "3d6f42e0",
   "metadata": {},
   "outputs": [
    {
     "data": {
      "text/html": [
       "<div>\n",
       "<style scoped>\n",
       "    .dataframe tbody tr th:only-of-type {\n",
       "        vertical-align: middle;\n",
       "    }\n",
       "\n",
       "    .dataframe tbody tr th {\n",
       "        vertical-align: top;\n",
       "    }\n",
       "\n",
       "    .dataframe thead th {\n",
       "        text-align: right;\n",
       "    }\n",
       "</style>\n",
       "<table border=\"1\" class=\"dataframe\">\n",
       "  <thead>\n",
       "    <tr style=\"text-align: right;\">\n",
       "      <th></th>\n",
       "      <th>Tweet</th>\n",
       "      <th>dist_classification</th>\n",
       "      <th>dist_score</th>\n",
       "      <th>bert_classification</th>\n",
       "      <th>bert_score</th>\n",
       "    </tr>\n",
       "  </thead>\n",
       "  <tbody>\n",
       "    <tr>\n",
       "      <th>0</th>\n",
       "      <td>@vincent13031925 For now. Costs are decreasing...</td>\n",
       "      <td>NEGATIVE</td>\n",
       "      <td>0.996366</td>\n",
       "      <td>NEU</td>\n",
       "      <td>0.952394</td>\n",
       "    </tr>\n",
       "    <tr>\n",
       "      <th>1</th>\n",
       "      <td>Love this beautiful shot</td>\n",
       "      <td>POSITIVE</td>\n",
       "      <td>0.999882</td>\n",
       "      <td>POS</td>\n",
       "      <td>0.990994</td>\n",
       "    </tr>\n",
       "    <tr>\n",
       "      <th>2</th>\n",
       "      <td>@agnostoxxx @CathieDWood @ARKInvest Trust the ...</td>\n",
       "      <td>NEGATIVE</td>\n",
       "      <td>0.849832</td>\n",
       "      <td>NEU</td>\n",
       "      <td>0.973386</td>\n",
       "    </tr>\n",
       "    <tr>\n",
       "      <th>3</th>\n",
       "      <td>The art In Cyberpunk is incredible</td>\n",
       "      <td>POSITIVE</td>\n",
       "      <td>0.999886</td>\n",
       "      <td>POS</td>\n",
       "      <td>0.982426</td>\n",
       "    </tr>\n",
       "    <tr>\n",
       "      <th>4</th>\n",
       "      <td>@itsALLrisky 🤣🤣</td>\n",
       "      <td>NEGATIVE</td>\n",
       "      <td>0.983950</td>\n",
       "      <td>NEG</td>\n",
       "      <td>0.962732</td>\n",
       "    </tr>\n",
       "  </tbody>\n",
       "</table>\n",
       "</div>"
      ],
      "text/plain": [
       "                                               Tweet dist_classification  \\\n",
       "0  @vincent13031925 For now. Costs are decreasing...            NEGATIVE   \n",
       "1                           Love this beautiful shot            POSITIVE   \n",
       "2  @agnostoxxx @CathieDWood @ARKInvest Trust the ...            NEGATIVE   \n",
       "3                 The art In Cyberpunk is incredible            POSITIVE   \n",
       "4                                    @itsALLrisky 🤣🤣            NEGATIVE   \n",
       "\n",
       "   dist_score bert_classification  bert_score  \n",
       "0    0.996366                 NEU    0.952394  \n",
       "1    0.999882                 POS    0.990994  \n",
       "2    0.849832                 NEU    0.973386  \n",
       "3    0.999886                 POS    0.982426  \n",
       "4    0.983950                 NEG    0.962732  "
      ]
     },
     "execution_count": 14,
     "metadata": {},
     "output_type": "execute_result"
    }
   ],
   "source": [
    "elontweets.head(5)"
   ]
  },
  {
   "cell_type": "markdown",
   "id": "0419c9b4",
   "metadata": {},
   "source": [
    "**❓ What do you notice about the difference in the results?**"
   ]
  },
  {
   "cell_type": "markdown",
   "id": "bdbd7961",
   "metadata": {},
   "source": [
    "- The Distilbert model had a roughly 60-40% split between *negative* and *positive* predictions.The Bertweet model classified the majority of the tweets as *neutral* (66.8%) and relatively few as *negative* (11.4%)."
   ]
  },
  {
   "cell_type": "code",
   "execution_count": 15,
   "id": "36e4179f",
   "metadata": {},
   "outputs": [
    {
     "data": {
      "text/plain": [
       "NEGATIVE    0.604\n",
       "POSITIVE    0.396\n",
       "Name: dist_classification, dtype: float64"
      ]
     },
     "execution_count": 15,
     "metadata": {},
     "output_type": "execute_result"
    }
   ],
   "source": [
    "#counts for distilbert model\n",
    "elontweets.dist_classification.value_counts(normalize=True)"
   ]
  },
  {
   "cell_type": "code",
   "execution_count": 16,
   "id": "46a64873",
   "metadata": {},
   "outputs": [
    {
     "data": {
      "text/plain": [
       "NEU    0.668\n",
       "POS    0.218\n",
       "NEG    0.114\n",
       "Name: bert_classification, dtype: float64"
      ]
     },
     "execution_count": 16,
     "metadata": {},
     "output_type": "execute_result"
    }
   ],
   "source": [
    "#counts for the bertweet model\n",
    "elontweets.bert_classification.value_counts(normalize=True)"
   ]
  },
  {
   "cell_type": "markdown",
   "id": "aa2bd3e0",
   "metadata": {},
   "source": [
    "- The Distilbert model tended to classify *neutral* predictions from the Bertweet model as *negative* (68% of the time) despite having a 60-40% distribution of *negative* and *positive* predictions overall."
   ]
  },
  {
   "cell_type": "code",
   "execution_count": 17,
   "id": "5bf42e81",
   "metadata": {},
   "outputs": [
    {
     "data": {
      "text/plain": [
       "NEGATIVE    0.679641\n",
       "POSITIVE    0.320359\n",
       "Name: dist_classification, dtype: float64"
      ]
     },
     "execution_count": 17,
     "metadata": {},
     "output_type": "execute_result"
    }
   ],
   "source": [
    "#distilbert base class counts for neutral classifications in bertweet model\n",
    "elontweets[elontweets['bert_classification']=='NEU'].dist_classification.value_counts(normalize=True)"
   ]
  },
  {
   "cell_type": "markdown",
   "id": "8bad4470",
   "metadata": {},
   "source": [
    "- If we exclude *neutral* predictions from the Bertweet model, then for the same tweets we get that it predicts *positive* outcomes more than the Distilbert model (66% vs 55%) and it predicts negative outcomes less likely (34% vs 45%)."
   ]
  },
  {
   "cell_type": "code",
   "execution_count": 18,
   "id": "457d06d2",
   "metadata": {},
   "outputs": [
    {
     "data": {
      "text/plain": [
       "POSITIVE    0.548193\n",
       "NEGATIVE    0.451807\n",
       "Name: dist_classification, dtype: float64"
      ]
     },
     "execution_count": 18,
     "metadata": {},
     "output_type": "execute_result"
    }
   ],
   "source": [
    "elontweets[elontweets['bert_classification']!='NEU'].dist_classification.value_counts(normalize=True)"
   ]
  },
  {
   "cell_type": "code",
   "execution_count": 19,
   "id": "3ef95faf",
   "metadata": {},
   "outputs": [
    {
     "data": {
      "text/plain": [
       "POS    0.656627\n",
       "NEG    0.343373\n",
       "Name: bert_classification, dtype: float64"
      ]
     },
     "execution_count": 19,
     "metadata": {},
     "output_type": "execute_result"
    }
   ],
   "source": [
    "elontweets[elontweets['bert_classification']!='NEU'].bert_classification.value_counts(normalize=True)"
   ]
  },
  {
   "cell_type": "markdown",
   "id": "500146e2",
   "metadata": {},
   "source": [
    "❓ Do the results for the `bertweet-base` model look better, or worse, than the results for the `distilbert-base` model? Why?"
   ]
  },
  {
   "cell_type": "markdown",
   "id": "a5299e16",
   "metadata": {},
   "source": [
    "Lets try a few logical examples to compare the models:"
   ]
  },
  {
   "cell_type": "markdown",
   "id": "8356f358",
   "metadata": {},
   "source": [
    "- both models predict accurately for low odd negations (up to 5)\n",
    "- both models predict poorly for low even negations\n",
    "- Distilbert model handles negations better than Bertweet\n",
    "- Bertweet naturally handles more non-positive and non-negative tweets better (i.e. neutral)\n",
    "- Bertweet handles conditional logic a bit better (i.e. assesses better probability of being certain)."
   ]
  },
  {
   "cell_type": "code",
   "execution_count": 20,
   "id": "9604e15d",
   "metadata": {},
   "outputs": [],
   "source": [
    "def negation(number=0, string=\"\"):\n",
    "    \n",
    "    negations = \"\"\n",
    "    newstring = \"\"\n",
    "    \n",
    "    if number == 0:\n",
    "        return string, sentiment_pipeline(string), bertweet_pipeline(string)\n",
    "    \n",
    "    else:\n",
    "        newstring = \"not \" * number + string\n",
    "        return newstring, sentiment_pipeline(newstring), bertweet_pipeline(newstring)\n"
   ]
  },
  {
   "cell_type": "code",
   "execution_count": 21,
   "id": "3cb58254",
   "metadata": {},
   "outputs": [
    {
     "data": {
      "text/plain": [
       "('good',\n",
       " [{'label': 'POSITIVE', 'score': 0.9998161196708679}],\n",
       " [{'label': 'POS', 'score': 0.9473403692245483}])"
      ]
     },
     "execution_count": 21,
     "metadata": {},
     "output_type": "execute_result"
    }
   ],
   "source": [
    "# no negation good word\n",
    "negation(0, \"good\")"
   ]
  },
  {
   "cell_type": "code",
   "execution_count": 22,
   "id": "8b8add86",
   "metadata": {},
   "outputs": [
    {
     "data": {
      "text/plain": [
       "('bad',\n",
       " [{'label': 'NEGATIVE', 'score': 0.999782383441925}],\n",
       " [{'label': 'NEG', 'score': 0.8907870054244995}])"
      ]
     },
     "execution_count": 22,
     "metadata": {},
     "output_type": "execute_result"
    }
   ],
   "source": [
    "# no negation bad word\n",
    "negation(0, \"bad\")"
   ]
  },
  {
   "cell_type": "code",
   "execution_count": 23,
   "id": "efb6368f",
   "metadata": {},
   "outputs": [
    {
     "data": {
      "text/plain": [
       "('not good',\n",
       " [{'label': 'NEGATIVE', 'score': 0.9997889399528503}],\n",
       " [{'label': 'NEG', 'score': 0.9618973731994629}])"
      ]
     },
     "execution_count": 23,
     "metadata": {},
     "output_type": "execute_result"
    }
   ],
   "source": [
    "# 1 negation good word\n",
    "negation(1, \"good\")"
   ]
  },
  {
   "cell_type": "code",
   "execution_count": 24,
   "id": "a1fd7dcb",
   "metadata": {},
   "outputs": [
    {
     "data": {
      "text/plain": [
       "('not bad',\n",
       " [{'label': 'POSITIVE', 'score': 0.9995881915092468}],\n",
       " [{'label': 'POS', 'score': 0.9798154830932617}])"
      ]
     },
     "execution_count": 24,
     "metadata": {},
     "output_type": "execute_result"
    }
   ],
   "source": [
    "# 1 negation bad word\n",
    "negation(1, \"bad\")"
   ]
  },
  {
   "cell_type": "code",
   "execution_count": 25,
   "id": "68d42687",
   "metadata": {},
   "outputs": [
    {
     "data": {
      "text/plain": [
       "('not not good',\n",
       " [{'label': 'NEGATIVE', 'score': 0.9997919201850891}],\n",
       " [{'label': 'NEG', 'score': 0.9710240960121155}])"
      ]
     },
     "execution_count": 25,
     "metadata": {},
     "output_type": "execute_result"
    }
   ],
   "source": [
    "# double negation good word\n",
    "negation(2, \"good\")"
   ]
  },
  {
   "cell_type": "code",
   "execution_count": 26,
   "id": "33459e5d",
   "metadata": {},
   "outputs": [
    {
     "data": {
      "text/plain": [
       "('not not bad',\n",
       " [{'label': 'POSITIVE', 'score': 0.9997580647468567}],\n",
       " [{'label': 'POS', 'score': 0.984266459941864}])"
      ]
     },
     "execution_count": 26,
     "metadata": {},
     "output_type": "execute_result"
    }
   ],
   "source": [
    "# double negation bad word\n",
    "negation(2, \"bad\")"
   ]
  },
  {
   "cell_type": "code",
   "execution_count": 27,
   "id": "1da68a0c",
   "metadata": {},
   "outputs": [
    {
     "data": {
      "text/plain": [
       "('not not not good',\n",
       " [{'label': 'NEGATIVE', 'score': 0.9997898936271667}],\n",
       " [{'label': 'NEG', 'score': 0.9729840159416199}])"
      ]
     },
     "execution_count": 27,
     "metadata": {},
     "output_type": "execute_result"
    }
   ],
   "source": [
    "# triple negation good word\n",
    "negation(3, \"good\")"
   ]
  },
  {
   "cell_type": "code",
   "execution_count": 28,
   "id": "ac2037c8",
   "metadata": {},
   "outputs": [
    {
     "data": {
      "text/plain": [
       "('not not not bad',\n",
       " [{'label': 'POSITIVE', 'score': 0.9997838139533997}],\n",
       " [{'label': 'POS', 'score': 0.9850047826766968}])"
      ]
     },
     "execution_count": 28,
     "metadata": {},
     "output_type": "execute_result"
    }
   ],
   "source": [
    "# triple negation bad word\n",
    "negation(3,\"bad\")"
   ]
  },
  {
   "cell_type": "code",
   "execution_count": 29,
   "id": "530466c6",
   "metadata": {},
   "outputs": [
    {
     "name": "stdout",
     "output_type": "stream",
     "text": [
      "('not not not not not not not not not good', [{'label': 'NEGATIVE', 'score': 0.680907666683197}], [{'label': 'NEG', 'score': 0.9778483510017395}])\n",
      "('not not not not not not not not not bad', [{'label': 'POSITIVE', 'score': 0.9889856576919556}], [{'label': 'NEG', 'score': 0.7724595665931702}])\n"
     ]
    }
   ],
   "source": [
    "print(negation(9,\"good\"))\n",
    "print(negation(9,\"bad\"))"
   ]
  },
  {
   "cell_type": "code",
   "execution_count": 30,
   "id": "53299622",
   "metadata": {},
   "outputs": [],
   "source": [
    "# lets try to generlaize for large n in the good word case\n",
    "\n",
    "n = list(range(100)) # negations\n",
    "\n",
    "n_good = []  # for good word case\n",
    "for i in range(100):\n",
    "    if i % 2:\n",
    "        n_good.append(1) #correct pred\n",
    "    else: \n",
    "        n_good.append(0) #incorrect pred"
   ]
  },
  {
   "cell_type": "code",
   "execution_count": 31,
   "id": "c0a94c63",
   "metadata": {},
   "outputs": [],
   "source": [
    "df_good = pd.DataFrame(list(zip(n, n_good)), columns=['n', 'True Good'])"
   ]
  },
  {
   "cell_type": "code",
   "execution_count": 32,
   "id": "f4c2d610",
   "metadata": {},
   "outputs": [],
   "source": [
    "def prediction_distilbert(n):\n",
    "    temp = negation(n, \"good\")[1]\n",
    "    return 1 if temp[0]['label']==\"POSITIVE\" else 0\n",
    "\n",
    "def prediction_bertweet(n):\n",
    "    temp = negation(n, \"good\")[2]\n",
    "    return 1 if temp[0]['label']==\"POS\" else 0"
   ]
  },
  {
   "cell_type": "code",
   "execution_count": 33,
   "id": "3f0007e0",
   "metadata": {},
   "outputs": [],
   "source": [
    "df_good['DistPred'] = df_good['n'].apply(prediction_distilbert)\n",
    "df_good['BertPred'] = df_good['n'].apply(prediction_bertweet)"
   ]
  },
  {
   "cell_type": "code",
   "execution_count": 34,
   "id": "4826356b",
   "metadata": {},
   "outputs": [
    {
     "data": {
      "text/html": [
       "<div>\n",
       "<style scoped>\n",
       "    .dataframe tbody tr th:only-of-type {\n",
       "        vertical-align: middle;\n",
       "    }\n",
       "\n",
       "    .dataframe tbody tr th {\n",
       "        vertical-align: top;\n",
       "    }\n",
       "\n",
       "    .dataframe thead th {\n",
       "        text-align: right;\n",
       "    }\n",
       "</style>\n",
       "<table border=\"1\" class=\"dataframe\">\n",
       "  <thead>\n",
       "    <tr style=\"text-align: right;\">\n",
       "      <th></th>\n",
       "      <th>n</th>\n",
       "      <th>variable</th>\n",
       "      <th>value</th>\n",
       "    </tr>\n",
       "  </thead>\n",
       "  <tbody>\n",
       "    <tr>\n",
       "      <th>0</th>\n",
       "      <td>0</td>\n",
       "      <td>True Good</td>\n",
       "      <td>0</td>\n",
       "    </tr>\n",
       "    <tr>\n",
       "      <th>1</th>\n",
       "      <td>1</td>\n",
       "      <td>True Good</td>\n",
       "      <td>1</td>\n",
       "    </tr>\n",
       "    <tr>\n",
       "      <th>2</th>\n",
       "      <td>2</td>\n",
       "      <td>True Good</td>\n",
       "      <td>0</td>\n",
       "    </tr>\n",
       "    <tr>\n",
       "      <th>3</th>\n",
       "      <td>3</td>\n",
       "      <td>True Good</td>\n",
       "      <td>1</td>\n",
       "    </tr>\n",
       "    <tr>\n",
       "      <th>4</th>\n",
       "      <td>4</td>\n",
       "      <td>True Good</td>\n",
       "      <td>0</td>\n",
       "    </tr>\n",
       "  </tbody>\n",
       "</table>\n",
       "</div>"
      ],
      "text/plain": [
       "   n   variable  value\n",
       "0  0  True Good      0\n",
       "1  1  True Good      1\n",
       "2  2  True Good      0\n",
       "3  3  True Good      1\n",
       "4  4  True Good      0"
      ]
     },
     "execution_count": 34,
     "metadata": {},
     "output_type": "execute_result"
    }
   ],
   "source": [
    "df_melted = pd.melt(df_good, id_vars=['n'], value_vars=['True Good', 'DistPred', 'BertPred'])\n",
    "df_melted.head()"
   ]
  },
  {
   "cell_type": "code",
   "execution_count": 39,
   "id": "0eea7dd5",
   "metadata": {},
   "outputs": [
    {
     "data": {
      "text/html": [
       "<div>\n",
       "<style scoped>\n",
       "    .dataframe tbody tr th:only-of-type {\n",
       "        vertical-align: middle;\n",
       "    }\n",
       "\n",
       "    .dataframe tbody tr th {\n",
       "        vertical-align: top;\n",
       "    }\n",
       "\n",
       "    .dataframe thead th {\n",
       "        text-align: right;\n",
       "    }\n",
       "</style>\n",
       "<table border=\"1\" class=\"dataframe\">\n",
       "  <thead>\n",
       "    <tr style=\"text-align: right;\">\n",
       "      <th></th>\n",
       "      <th>n</th>\n",
       "      <th>True Good</th>\n",
       "      <th>DistPred</th>\n",
       "      <th>BertPred</th>\n",
       "    </tr>\n",
       "  </thead>\n",
       "  <tbody>\n",
       "    <tr>\n",
       "      <th>0</th>\n",
       "      <td>0</td>\n",
       "      <td>0</td>\n",
       "      <td>1</td>\n",
       "      <td>1</td>\n",
       "    </tr>\n",
       "    <tr>\n",
       "      <th>1</th>\n",
       "      <td>1</td>\n",
       "      <td>1</td>\n",
       "      <td>0</td>\n",
       "      <td>0</td>\n",
       "    </tr>\n",
       "    <tr>\n",
       "      <th>2</th>\n",
       "      <td>2</td>\n",
       "      <td>0</td>\n",
       "      <td>0</td>\n",
       "      <td>0</td>\n",
       "    </tr>\n",
       "    <tr>\n",
       "      <th>3</th>\n",
       "      <td>3</td>\n",
       "      <td>1</td>\n",
       "      <td>0</td>\n",
       "      <td>0</td>\n",
       "    </tr>\n",
       "    <tr>\n",
       "      <th>4</th>\n",
       "      <td>4</td>\n",
       "      <td>0</td>\n",
       "      <td>0</td>\n",
       "      <td>0</td>\n",
       "    </tr>\n",
       "    <tr>\n",
       "      <th>...</th>\n",
       "      <td>...</td>\n",
       "      <td>...</td>\n",
       "      <td>...</td>\n",
       "      <td>...</td>\n",
       "    </tr>\n",
       "    <tr>\n",
       "      <th>95</th>\n",
       "      <td>95</td>\n",
       "      <td>1</td>\n",
       "      <td>1</td>\n",
       "      <td>0</td>\n",
       "    </tr>\n",
       "    <tr>\n",
       "      <th>96</th>\n",
       "      <td>96</td>\n",
       "      <td>0</td>\n",
       "      <td>1</td>\n",
       "      <td>0</td>\n",
       "    </tr>\n",
       "    <tr>\n",
       "      <th>97</th>\n",
       "      <td>97</td>\n",
       "      <td>1</td>\n",
       "      <td>1</td>\n",
       "      <td>0</td>\n",
       "    </tr>\n",
       "    <tr>\n",
       "      <th>98</th>\n",
       "      <td>98</td>\n",
       "      <td>0</td>\n",
       "      <td>1</td>\n",
       "      <td>0</td>\n",
       "    </tr>\n",
       "    <tr>\n",
       "      <th>99</th>\n",
       "      <td>99</td>\n",
       "      <td>1</td>\n",
       "      <td>1</td>\n",
       "      <td>0</td>\n",
       "    </tr>\n",
       "  </tbody>\n",
       "</table>\n",
       "<p>100 rows × 4 columns</p>\n",
       "</div>"
      ],
      "text/plain": [
       "     n  True Good  DistPred  BertPred\n",
       "0    0          0         1         1\n",
       "1    1          1         0         0\n",
       "2    2          0         0         0\n",
       "3    3          1         0         0\n",
       "4    4          0         0         0\n",
       "..  ..        ...       ...       ...\n",
       "95  95          1         1         0\n",
       "96  96          0         1         0\n",
       "97  97          1         1         0\n",
       "98  98          0         1         0\n",
       "99  99          1         1         0\n",
       "\n",
       "[100 rows x 4 columns]"
      ]
     },
     "execution_count": 39,
     "metadata": {},
     "output_type": "execute_result"
    }
   ],
   "source": [
    "df_good"
   ]
  },
  {
   "cell_type": "code",
   "execution_count": 42,
   "id": "3d719144",
   "metadata": {},
   "outputs": [
    {
     "name": "stdout",
     "output_type": "stream",
     "text": [
      "[{'label': 'POSITIVE', 'score': 0.9997832179069519}]\n",
      "[{'label': 'POS', 'score': 0.9394725561141968}]\n"
     ]
    }
   ],
   "source": [
    "# Conditionals\n",
    "print(sentiment_pipeline(\"That is good if it's not bad\"))\n",
    "print(bertweet_pipeline(\"That is good if it's not bad\"))"
   ]
  },
  {
   "cell_type": "code",
   "execution_count": 45,
   "id": "7becc025",
   "metadata": {},
   "outputs": [
    {
     "name": "stdout",
     "output_type": "stream",
     "text": [
      "[{'label': 'POSITIVE', 'score': 0.9998347759246826}]\n",
      "[{'label': 'POS', 'score': 0.7261000275611877}]\n"
     ]
    }
   ],
   "source": [
    "print(sentiment_pipeline(\"If it's not bad then it's good\"))\n",
    "print(bertweet_pipeline(\"If it's not bad then it's good\"))"
   ]
  },
  {
   "cell_type": "code",
   "execution_count": 46,
   "id": "51c3dec3",
   "metadata": {},
   "outputs": [
    {
     "name": "stdout",
     "output_type": "stream",
     "text": [
      "[{'label': 'NEGATIVE', 'score': 0.9646835327148438}]\n",
      "[{'label': 'NEG', 'score': 0.8612220883369446}]\n"
     ]
    }
   ],
   "source": [
    "print(sentiment_pipeline(\"That's pretty average\"))\n",
    "print(bertweet_pipeline(\"That's pretty average\"))"
   ]
  },
  {
   "cell_type": "markdown",
   "id": "6684f9ae",
   "metadata": {},
   "source": [
    "<hr>\n",
    "\n",
    "### Partner Exercise\n",
    "\n",
    "With your partner, try and determine what the following tweets might be classified as. Try to classify them into the same groups as both of the model pipelines we saw today - and try adding a few of your own sentences/Tweets! "
   ]
  },
  {
   "cell_type": "code",
   "execution_count": 36,
   "id": "dcc55db9",
   "metadata": {},
   "outputs": [],
   "source": [
    "example_difficult_tweets = [\n",
    "    \"Kong vs Godzilla has record for most meth ever consumed in a writer's room\",\n",
    "    \"@ashleevance Battery energy density is the key to electric aircraft. Autonomy for aircraft could have been done a long time ago. Modern airliners are very close to autonomous.\",\n",
    "    \"Tesla's action is not directly reflective of my opinion. Having some Bitcoin, which is simply a less dumb form of liquidity than cash, is adventurous enough for an S&P500 company.\",\n",
    "    \"Free speech is non negotiable\",\n",
    "    \"To be clear we have not yet made changes to Twitter's content moderation policies\",\n",
    "]"
   ]
  },
  {
   "cell_type": "markdown",
   "id": "324e3837",
   "metadata": {},
   "source": [
    "The `distilbert-base` model:"
   ]
  },
  {
   "cell_type": "code",
   "execution_count": 37,
   "id": "3fd3d5a9",
   "metadata": {},
   "outputs": [
    {
     "name": "stdout",
     "output_type": "stream",
     "text": [
      "[{'label': 'POSITIVE', 'score': 0.5429081320762634}]\n",
      "Kong vs Godzilla has record for most meth ever consumed in a writer's room\n",
      "\n",
      "[{'label': 'NEGATIVE', 'score': 0.6348376870155334}]\n",
      "@ashleevance Battery energy density is the key to electric aircraft. Autonomy for aircraft could have been done a long time ago. Modern airliners are very close to autonomous.\n",
      "\n",
      "[{'label': 'POSITIVE', 'score': 0.9419705867767334}]\n",
      "Tesla's action is not directly reflective of my opinion. Having some Bitcoin, which is simply a less dumb form of liquidity than cash, is adventurous enough for an S&P500 company.\n",
      "\n",
      "[{'label': 'NEGATIVE', 'score': 0.8268800377845764}]\n",
      "Free speech is non negotiable\n",
      "\n",
      "[{'label': 'NEGATIVE', 'score': 0.9965620636940002}]\n",
      "To be clear we have not yet made changes to Twitter's content moderation policies\n",
      "\n"
     ]
    }
   ],
   "source": [
    "for tweet in example_difficult_tweets[0:1000]:\n",
    "    pprint(sentiment_pipeline(tweet))\n",
    "    print(tweet + '\\n')"
   ]
  },
  {
   "cell_type": "markdown",
   "id": "61230295",
   "metadata": {},
   "source": [
    "The `bertweet-base` model:"
   ]
  },
  {
   "cell_type": "code",
   "execution_count": 38,
   "id": "82f2d3e2",
   "metadata": {},
   "outputs": [
    {
     "name": "stdout",
     "output_type": "stream",
     "text": [
      "[{'label': 'NEG', 'score': 0.72130286693573}]\n",
      "Kong vs Godzilla has record for most meth ever consumed in a writer's room\n",
      "\n",
      "[{'label': 'NEU', 'score': 0.8023843169212341}]\n",
      "@ashleevance Battery energy density is the key to electric aircraft. Autonomy for aircraft could have been done a long time ago. Modern airliners are very close to autonomous.\n",
      "\n",
      "[{'label': 'NEU', 'score': 0.8843539953231812}]\n",
      "Tesla's action is not directly reflective of my opinion. Having some Bitcoin, which is simply a less dumb form of liquidity than cash, is adventurous enough for an S&P500 company.\n",
      "\n",
      "[{'label': 'NEU', 'score': 0.9585056900978088}]\n",
      "Free speech is non negotiable\n",
      "\n",
      "[{'label': 'NEU', 'score': 0.9331392049789429}]\n",
      "To be clear we have not yet made changes to Twitter's content moderation policies\n",
      "\n"
     ]
    }
   ],
   "source": [
    "for tweet in example_difficult_tweets[0:1000]:\n",
    "    pprint(bertweet_pipeline(tweet))\n",
    "    print(tweet + '\\n')"
   ]
  },
  {
   "cell_type": "markdown",
   "id": "97f2c1c5",
   "metadata": {},
   "source": [
    "❓ How did you do? Did you find any surprising results? \n",
    "\n",
    "- We were able correctly assess the predictions both models would make for the tweets"
   ]
  },
  {
   "cell_type": "markdown",
   "id": "7b159ab3",
   "metadata": {},
   "source": [
    "❓ Are there any instances where the two models gave different predictions for the same tweet?\n",
    "\n",
    "- All tweets resulted in different predicitons by each model\n",
    "- The Bertweet model was better at assessing the sample tweets"
   ]
  }
 ],
 "metadata": {
  "kernelspec": {
   "display_name": "Python 3 (ipykernel)",
   "language": "python",
   "name": "python3"
  },
  "language_info": {
   "codemirror_mode": {
    "name": "ipython",
    "version": 3
   },
   "file_extension": ".py",
   "mimetype": "text/x-python",
   "name": "python",
   "nbconvert_exporter": "python",
   "pygments_lexer": "ipython3",
   "version": "3.8.13"
  },
  "vscode": {
   "interpreter": {
    "hash": "635e31ff34c0350df6e9d804eda70786d94f48b17fcc73c378df4ea6ec0d01fd"
   }
  }
 },
 "nbformat": 4,
 "nbformat_minor": 5
}
