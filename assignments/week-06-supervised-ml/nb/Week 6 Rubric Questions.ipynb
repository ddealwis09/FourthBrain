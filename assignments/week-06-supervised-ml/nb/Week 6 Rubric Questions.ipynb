{
 "cells": [
  {
   "cell_type": "markdown",
   "id": "a694640e",
   "metadata": {},
   "source": [
    "# Week 6 Rubric Questions"
   ]
  },
  {
   "cell_type": "markdown",
   "id": "2d9a63f6",
   "metadata": {},
   "source": [
    "**Algorithm Understanding\n",
    "Is SVM (Support Vector Machine) a supervised or unsupervised learning algorithm?\n",
    "Why is SVM such a powerful classification method?\n",
    "What are 3 disadvantages of SVMs?**"
   ]
  },
  {
   "cell_type": "markdown",
   "id": "956d942c",
   "metadata": {},
   "source": [
    "SVM is a supervised machine learning algorithm\n",
    "\n",
    "SVMs are power for classification tasks because they can classify both linear and non-linearly separable data points in n-dimensional space. They can handle non-linear classification by use of kernels. SVMs are also computationally efficient. \n",
    "\n",
    "Three drawbacks of SVMs:\n",
    "- for very large data sets, they are not well suited. Neural networks would be better here. \n",
    "- there is no probability assigned to the classifications it makes\n",
    "- doesn't perform well for overlapping target classes\n"
   ]
  },
  {
   "cell_type": "markdown",
   "id": "afc11468",
   "metadata": {},
   "source": [
    "**This criterion is linked to a Learning Outcome Interview Readiness\n",
    "What is the time complexity of SVM? \n",
    "What is it for Logistic Regression?**"
   ]
  },
  {
   "cell_type": "code",
   "execution_count": null,
   "id": "8ef8aa86",
   "metadata": {},
   "outputs": [],
   "source": []
  },
  {
   "cell_type": "markdown",
   "id": "92df7ddd",
   "metadata": {},
   "source": [
    "**This criterion is linked to a Learning Outcome Interview Readiness\n",
    "Explain feature importance for the Random Forest algorithm?\n",
    "When examining feature importance, what is Gini impurity or information gain?**"
   ]
  },
  {
   "cell_type": "code",
   "execution_count": null,
   "id": "7797b592",
   "metadata": {},
   "outputs": [],
   "source": []
  },
  {
   "cell_type": "markdown",
   "id": "35b790b0",
   "metadata": {},
   "source": [
    "**Interview Readiness\n",
    "SHAP (SHapley Additive exPlanations) is a game theoretic approach to explain the output of any machine learning model, what is it and how does it work?**"
   ]
  },
  {
   "cell_type": "code",
   "execution_count": null,
   "id": "154d2cac",
   "metadata": {},
   "outputs": [],
   "source": []
  }
 ],
 "metadata": {
  "kernelspec": {
   "display_name": "Python 3 (ipykernel)",
   "language": "python",
   "name": "python3"
  },
  "language_info": {
   "codemirror_mode": {
    "name": "ipython",
    "version": 3
   },
   "file_extension": ".py",
   "mimetype": "text/x-python",
   "name": "python",
   "nbconvert_exporter": "python",
   "pygments_lexer": "ipython3",
   "version": "3.8.13"
  }
 },
 "nbformat": 4,
 "nbformat_minor": 5
}
