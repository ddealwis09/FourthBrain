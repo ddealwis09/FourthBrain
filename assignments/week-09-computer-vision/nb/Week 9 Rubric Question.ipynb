{
 "cells": [
  {
   "cell_type": "markdown",
   "id": "31b9ee12",
   "metadata": {},
   "source": [
    "# Rubric Questions"
   ]
  },
  {
   "cell_type": "markdown",
   "id": "8fee8e87",
   "metadata": {},
   "source": [
    "### Algorithm Understanding\n",
    "#### How does Transfer Learning work? When to use Transfer Learning?"
   ]
  },
  {
   "cell_type": "markdown",
   "id": "4105b4ef",
   "metadata": {},
   "source": [
    "Transfer learning is a design methodology whereby knowledge/learning from one domain/task applied to another similar domain/task. In the case of computer vision, you could use learnings that detect one type of object to detect another similar type of object.  \n",
    "\n",
    "Transfer learning is used when the time and computational resources are so high to train a model, that we can use the learnings from another previously trained model and apply it to the new problem. Another reason could be if we have little data specifically needed to train the model. "
   ]
  },
  {
   "cell_type": "markdown",
   "id": "ce655abf",
   "metadata": {},
   "source": [
    "### Interview Readiness\n",
    "#### When training a Convolution Neural Network in the parameters what do each of the letters mean, for example NHWC?"
   ]
  },
  {
   "cell_type": "markdown",
   "id": "df4f1904",
   "metadata": {},
   "source": [
    "The letters NHWC is the dimensions of the tensor:\n",
    "\n",
    "`N`: number of images in the batch\n",
    "\n",
    "`H`: height of the image\n",
    "\n",
    "`W`: width of the image\n",
    "\n",
    "`C`: number of channels of the image"
   ]
  },
  {
   "cell_type": "markdown",
   "id": "621db7e8",
   "metadata": {},
   "source": [
    "#### How does an SSD (single shot multi box detector) object detection model work?"
   ]
  },
  {
   "cell_type": "markdown",
   "id": "2bb80f23",
   "metadata": {},
   "source": [
    "1. Extracting feature maps from the input image via convolution neural network (CNN)\n",
    "2. Apply the convolution filters to detect objects. Here to make predictions, the model generates scores to detect the presence of each object category and makes adjustments to the box to better match the object shape. The model combines predictions from multiple feature maps with different resolutions to handle objects with varying sizes.\n",
    "\n",
    "\n",
    "\n"
   ]
  },
  {
   "cell_type": "markdown",
   "id": "20c4c2f9",
   "metadata": {},
   "source": [
    "#### What is Intersection over Union and why do we use Intersection over Union?"
   ]
  },
  {
   "cell_type": "markdown",
   "id": "57cbf0ee",
   "metadata": {},
   "source": [
    "Intersection Over Union (IOU) is a performance evaluation metric used in object detection. We first have the 'ground truth' bounding boxes and the predicted bounding boxes. The IOU is then calculated as the area of overlap between these two divided by their area of union."
   ]
  }
 ],
 "metadata": {
  "kernelspec": {
   "display_name": "Python 3 (ipykernel)",
   "language": "python",
   "name": "python3"
  },
  "language_info": {
   "codemirror_mode": {
    "name": "ipython",
    "version": 3
   },
   "file_extension": ".py",
   "mimetype": "text/x-python",
   "name": "python",
   "nbconvert_exporter": "python",
   "pygments_lexer": "ipython3",
   "version": "3.8.13"
  }
 },
 "nbformat": 4,
 "nbformat_minor": 5
}
